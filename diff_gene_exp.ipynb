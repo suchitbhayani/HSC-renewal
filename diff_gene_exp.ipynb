{
 "cells": [
  {
   "cell_type": "markdown",
   "metadata": {},
   "source": [
    "filter out (of cell GEP mapping df) cells with lower GEP 15 expression (use a visualiztion to make a threshold)\n",
    "\n",
    "for viz, make a CDF of the GENE 15 expressions\n",
    "\n",
    "once you have threshold and you've filtered, separate into HSCs and non HSCs, run differential gene exp on both groups"
   ]
  },
  {
   "cell_type": "markdown",
   "metadata": {},
   "source": []
  }
 ],
 "metadata": {
  "language_info": {
   "name": "python"
  }
 },
 "nbformat": 4,
 "nbformat_minor": 2
}
