{
 "cells": [
  {
   "cell_type": "markdown",
   "metadata": {},
   "source": [
    "trying stuff with full 40k 50k whatever dataset\n",
    "\n",
    "concat target variable to df, run regression\n",
    "\n",
    "scanpy read_10x_mtx function to read directory with mtx file and 2 TSV files?"
   ]
  },
  {
   "cell_type": "code",
   "execution_count": null,
   "metadata": {},
   "outputs": [],
   "source": [
    "# adata = sc.read_h5ad(\"./data/hultCD34_full.h5ad\")\n",
    "matrix = mmread(\"./data/matrix.mtx\") # use read_10_mtx scipy\n",
    "dense_matrix = matrix.toarray()\n",
    "\n",
    "cell_metadata = pd.read_csv(\"./data/barcodes.tsv\", header=None, index_col=0, sep=\"\\t\") \n",
    "gene_metadata = pd.read_csv(\"./data/features.tsv\", header=None, index_col=0, sep=\"\\t\") \n",
    "\n",
    "expression_df = pd.DataFrame(\n",
    "    dense_matrix, \n",
    "    index=cell_metadata, \n",
    "    columns=gene_metadata\n",
    ")\n",
    "\n",
    "\n",
    "# # Extract the expression matrix (cells x genes)\n",
    "# expression_df = pd.DataFrame(\n",
    "#     adata.X, \n",
    "#     index=adata.obs.index, \n",
    "#     columns=adata.var.index\n",
    "# )\n",
    "\n",
    "# # Extract cell metadata\n",
    "# cell_metadata_df = adata.obs\n",
    "\n",
    "# # Extract gene metadata\n",
    "# gene_metadata_df = adata.var"
   ]
  },
  {
   "cell_type": "code",
   "execution_count": null,
   "metadata": {},
   "outputs": [],
   "source": [
    "adata = sc.read_h5ad(\"./data/seurat_object.h5ad\")\n",
    "\n",
    "# Extract the expression matrix (cells x genes)\n",
    "expression_df = pd.DataFrame(\n",
    "    adata.X, \n",
    "    index=adata.obs.index, \n",
    "    columns=adata.var.index\n",
    ")\n",
    "\n",
    "# Extract cell metadata\n",
    "cell_metadata_df = adata.obs\n",
    "\n",
    "# Extract gene metadata\n",
    "gene_metadata_df = adata.var"
   ]
  },
  {
   "cell_type": "code",
   "execution_count": null,
   "metadata": {},
   "outputs": [],
   "source": []
  }
 ],
 "metadata": {
  "kernelspec": {
   "display_name": "hsc",
   "language": "python",
   "name": "python3"
  },
  "language_info": {
   "name": "python",
   "version": "3.10.15"
  }
 },
 "nbformat": 4,
 "nbformat_minor": 2
}
