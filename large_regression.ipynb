{
 "cells": [
  {
   "cell_type": "markdown",
   "metadata": {},
   "source": [
    "trying stuff with full 40k 50k whatever dataset\n",
    "\n",
    "concat target variable to df, run regression\n",
    "\n",
    "scanpy read_10x_mtx function to read directory with mtx file and 2 TSV files? see slack for specific instructions"
   ]
  },
  {
   "cell_type": "code",
   "execution_count": 1,
   "metadata": {},
   "outputs": [],
   "source": [
    "import pandas as pd\n",
    "import scanpy as sc\n",
    "from scipy.io import mmread\n",
    "import numpy as np\n",
    "\n",
    "import matplotlib.pyplot as plt\n",
    "import plotly.express as px\n",
    "import seaborn as sns\n",
    "\n",
    "from sklearn.linear_model import ElasticNetCV, LinearRegression\n",
    "from sklearn.model_selection import train_test_split\n",
    "from sklearn.metrics import mean_squared_error\n",
    "from sklearn.pipeline import make_pipeline\n",
    "from sklearn.compose import make_column_transformer\n",
    "from sklearn.preprocessing import FunctionTransformer\n",
    "\n",
    "\n",
    "pd.set_option('display.max_columns', None)\n",
    "\n",
    "import warnings\n",
    "warnings.filterwarnings(\"ignore\", category=UserWarning, module=\"sklearn\")"
   ]
  },
  {
   "cell_type": "code",
   "execution_count": null,
   "metadata": {},
   "outputs": [],
   "source": [
    "# adata = sc.read_h5ad(\"./data/hultCD34_full.h5ad\")\n",
    "matrix = mmread(\"./data/matrix.mtx\") # use read_10_mtx scipy\n",
    "dense_matrix = matrix.toarray()\n",
    "\n",
    "cell_metadata = pd.read_csv(\"./data/barcodes.tsv\", header=None, index_col=0, sep=\"\\t\") \n",
    "gene_metadata = pd.read_csv(\"./data/features.tsv\", header=None, index_col=0, sep=\"\\t\") \n",
    "\n",
    "expression_df = pd.DataFrame(\n",
    "    dense_matrix, \n",
    "    index=cell_metadata, \n",
    "    columns=gene_metadata\n",
    ")\n",
    "\n",
    "\n",
    "# # Extract the expression matrix (cells x genes)\n",
    "# expression_df = pd.DataFrame(\n",
    "#     adata.X, \n",
    "#     index=adata.obs.index, \n",
    "#     columns=adata.var.index\n",
    "# )\n",
    "\n",
    "# # Extract cell metadata\n",
    "# cell_metadata_df = adata.obs\n",
    "\n",
    "# # Extract gene metadata\n",
    "# gene_metadata_df = adata.var"
   ]
  },
  {
   "cell_type": "code",
   "execution_count": null,
   "metadata": {},
   "outputs": [],
   "source": [
    "adata = sc.read_h5ad(\"./data/seurat_object.h5ad\")\n",
    "\n",
    "# Extract the expression matrix (cells x genes)\n",
    "expression_df = pd.DataFrame(\n",
    "    adata.X, \n",
    "    index=adata.obs.index, \n",
    "    columns=adata.var.index\n",
    ")\n",
    "\n",
    "# Extract cell metadata\n",
    "cell_metadata_df = adata.obs\n",
    "\n",
    "# Extract gene metadata\n",
    "gene_metadata_df = adata.var"
   ]
  },
  {
   "cell_type": "code",
   "execution_count": null,
   "metadata": {},
   "outputs": [],
   "source": []
  }
 ],
 "metadata": {
  "kernelspec": {
   "display_name": "hsc",
   "language": "python",
   "name": "python3"
  },
  "language_info": {
   "codemirror_mode": {
    "name": "ipython",
    "version": 3
   },
   "file_extension": ".py",
   "mimetype": "text/x-python",
   "name": "python",
   "nbconvert_exporter": "python",
   "pygments_lexer": "ipython3",
   "version": "3.10.15"
  }
 },
 "nbformat": 4,
 "nbformat_minor": 2
}
