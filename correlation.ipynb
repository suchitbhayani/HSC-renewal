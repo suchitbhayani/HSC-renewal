{
 "cells": [
  {
   "cell_type": "markdown",
   "id": "0049e863-da18-4205-a7d3-8342a1c8713e",
   "metadata": {},
   "source": [
    "# TODO: \n",
    "\n",
    "- look to see if anyone has perfected method for correlating gene expression against a phenotype/trait at single cell scale.\n",
    "- REPEAT PROCESS FOR GEP 22, SEND CSVS TO HOJUN. make pandas code cleaner/reusable. incorporate correction for zero inflation?\n",
    "- calculate p values for each correlation (HSC, gene, GEP vs progenitor, gene, GEP). basically same thing as task 1, but separate HSCs and progenitor."
   ]
  },
  {
   "cell_type": "code",
   "execution_count": 1,
   "id": "4410ef5d-e8b1-45e0-80ce-d5713c780f29",
   "metadata": {},
   "outputs": [],
   "source": [
    "import scanpy as sc\n",
    "import anndata as ad\n",
    "import pandas as pd\n",
    "import numpy as np\n",
    "\n",
    "import matplotlib.pyplot as plt\n",
    "import seaborn as sns\n",
    "# import plotly.express as px\n",
    "\n",
    "from sklearn.linear_model import ElasticNetCV, LinearRegression\n",
    "from sklearn.model_selection import train_test_split\n",
    "from sklearn.metrics import mean_squared_error\n",
    "from sklearn.pipeline import make_pipeline\n",
    "from sklearn.compose import make_column_transformer\n",
    "from sklearn.preprocessing import FunctionTransformer\n",
    "\n",
    "import statsmodels.api as sm"
   ]
  },
  {
   "cell_type": "code",
   "execution_count": 14,
   "id": "37ca16a8-aee4-4c93-a913-4d0b7812f16c",
   "metadata": {},
   "outputs": [],
   "source": [
    "def read_metadata():\n",
    "    return pd.read_csv('./data/metadata.csv').rename(columns={'Unnamed: 0': 'cell'}).set_index('cell')\n",
    "\n",
    "def read_full_counts():\n",
    "    adata = sc.read_h5ad(\"./data/hultcd34_full.h5ad\")\n",
    "    adata.obs = metadata\n",
    "    df = adata.to_df()\n",
    "    return df.merge(metadata, left_index=True, right_index=True)\n",
    "\n",
    "# account for cells thrown out in cell-GEP dataframe, also keep only HSCs and progenitors\n",
    "def filter_full_counts(df):\n",
    "    cell_GEP_mapping = read_cell_GEP()\n",
    "    gep_set = set(cell_GEP_mapping.index)\n",
    "    raw_counts_set = set(df.index)\n",
    "    difference = raw_counts_set.difference(gep_set)\n",
    "    \n",
    "    df = df[~df.index.isin(difference)]\n",
    "    df = (df\n",
    "          [(df['cluster'] != 'Uncommitted') | (df['subcluster'] == 'HSC')]\n",
    "          .iloc[:, :-9]\n",
    "         )\n",
    "    \n",
    "    return df\n",
    "\n",
    "def read_cell_GEP():\n",
    "    cell_GEP_mapping = pd.read_csv(r'./data/Factorized matrices from human lifetime scRNA(GEP usage per cell).csv').set_index('Cell')\n",
    "    return cell_GEP_mapping.merge(metadata, left_index=True, right_index=True)\n",
    "    \n",
    "# keep only HSCs and progenitors\n",
    "def filter_cell_GEP(cell_GEP_mapping):\n",
    "    cell_GEP_mapping = (cell_GEP_mapping\n",
    "                    [(cell_GEP_mapping['cluster'] != 'Uncommitted') | (cell_GEP_mapping['subcluster'] == 'HSC')]\n",
    "                    .iloc[:, :35]\n",
    "                   )\n",
    "    return cell_GEP_mapping"
   ]
  },
  {
   "cell_type": "code",
   "execution_count": 15,
   "id": "9b301dec-b416-40e6-aca8-c3d6e5574b21",
   "metadata": {},
   "outputs": [],
   "source": [
    "target_GEP = 'GEP 15 (DNA Replication)'\n",
    "\n",
    "metadata = read_metadata()\n",
    "df = (read_full_counts()\n",
    "      .pipe(filter_full_counts)\n",
    "     )\n",
    "cell_GEP_mapping = (read_cell_GEP()\n",
    "                    .pipe(filter_cell_GEP)\n",
    "                   )"
   ]
  },
  {
   "cell_type": "code",
   "execution_count": null,
   "id": "1e8d4803-511f-4dc7-9ec7-3ec1fea77281",
   "metadata": {},
   "outputs": [],
   "source": [
    "# # initialize full counts dataframe\n",
    "# adata = sc.read_h5ad(\"./data/hultcd34_full.h5ad\")\n",
    "# metadata = pd.read_csv('./data/metadata.csv').rename(columns={'Unnamed: 0': 'cell'}).set_index('cell')\n",
    "# adata.obs = metadata\n",
    "# df = adata.to_df()\n",
    "# df = (df\n",
    "#      .merge(metadata, left_index=True, right_index=True)\n",
    "#      )\n",
    "\n",
    "\n",
    "# # initialize cell-GEP dataframe\n",
    "# cell_GEP_mapping = pd.read_csv(r'./data/Factorized matrices from human lifetime scRNA(GEP usage per cell).csv').set_index('Cell')\n",
    "# cell_GEP_mapping = (cell_GEP_mapping\n",
    "#           .merge(metadata, left_index=True, right_index=True)\n",
    "#          )\n",
    "\n",
    "\n",
    "# # account for cells thrown out in cell-GEP dataframe\n",
    "# gep_set = set(cell_GEP_mapping.index)\n",
    "# raw_counts_set = set(df.index)\n",
    "# difference = raw_counts_set.difference(gep_set)\n",
    "# df = df[~df.index.isin(difference)]\n",
    "\n",
    "\n",
    "# # query to keep only HSCs and progenitors\n",
    "# cell_GEP_mapping = (cell_GEP_mapping\n",
    "#                     [(cell_GEP_mapping['cluster'] != 'Uncommitted') | (cell_GEP_mapping['subcluster'] == 'HSC')]\n",
    "#                     .iloc[:, :35]\n",
    "#                    )\n",
    "# df = (df\n",
    "#       [(df['cluster'] != 'Uncommitted') | (df['subcluster'] == 'HSC')]\n",
    "#       .iloc[:, :-9]\n",
    "#       )"
   ]
  },
  {
   "cell_type": "markdown",
   "id": "6bde60b9-10b3-4f09-b1e1-5878e10ebca8",
   "metadata": {},
   "source": [
    "task 1 -\n",
    "\n",
    "look at HSCs and progenitors together. plot gene exp (x) vs GEP 15 output (y). do some regression hypothesis testing and use multiple testing correction (Bonferoni correction)"
   ]
  },
  {
   "cell_type": "code",
   "execution_count": 4,
   "id": "c6dbecef-c418-4947-bd90-c8baeec1b2f9",
   "metadata": {},
   "outputs": [],
   "source": [
    "def calculate_p_all_cells(row):\n",
    "    X = row\n",
    "    y = cell_GEP_mapping[target_GEP]\n",
    "    \n",
    "    X = sm.add_constant(X)\n",
    "    model = sm.OLS(y, X).fit()\n",
    "    p_value = model.pvalues.iloc[1]\n",
    "    \n",
    "    all_res[row.name] = p_value\n",
    "    \n",
    "def dict_to_df_p(res):\n",
    "    df = pd.DataFrame.from_dict(res, orient='index', columns=['p-value'])\n",
    "    df.index.name = 'gene'\n",
    "    return df"
   ]
  },
  {
   "cell_type": "code",
   "execution_count": 5,
   "id": "712efc30-0dc2-458c-aac5-28a18335887c",
   "metadata": {},
   "outputs": [],
   "source": [
    "all_res = {}\n",
    "df.apply(calculate_p_all_cells)\n",
    "all_cell_p = dict_to_df_p(all_res)\n",
    "\n",
    "cutoff = 0.001 / df.shape[0]\n",
    "all_cell_significant = all_cell_p[all_cell_p['p-value'] < cutoff]"
   ]
  },
  {
   "cell_type": "code",
   "execution_count": 6,
   "id": "b9917d13-4990-4360-8abd-a8eba21577c3",
   "metadata": {},
   "outputs": [
    {
     "data": {
      "text/plain": [
       "(array([10423.,   219.,   122.,    95.,    74.,    58.,    62.,    49.,\n",
       "           40.,    51.]),\n",
       " array([0.00000000e+00, 2.42890195e-09, 4.85780390e-09, 7.28670585e-09,\n",
       "        9.71560779e-09, 1.21445097e-08, 1.45734117e-08, 1.70023136e-08,\n",
       "        1.94312156e-08, 2.18601175e-08, 2.42890195e-08]),\n",
       " <BarContainer object of 10 artists>)"
      ]
     },
     "execution_count": 6,
     "metadata": {},
     "output_type": "execute_result"
    },
    {
     "data": {
      "image/png": "[encoded data removed]",
      "text/plain": [
       "<Figure size 640x480 with 1 Axes>"
      ]
     },
     "metadata": {},
     "output_type": "display_data"
    }
   ],
   "source": [
    "plt.hist(all_cell_significant['p-value'])"
   ]
  },
  {
   "cell_type": "code",
   "execution_count": 7,
   "id": "12a0492f-03a7-4b36-b6f4-3d3ac50b0f4e",
   "metadata": {},
   "outputs": [
    {
     "data": {
      "text/html": [
       "<div>\n",
       "<style scoped>\n",
       "    .dataframe tbody tr th:only-of-type {\n",
       "        vertical-align: middle;\n",
       "    }\n",
       "\n",
       "    .dataframe tbody tr th {\n",
       "        vertical-align: top;\n",
       "    }\n",
       "\n",
       "    .dataframe thead th {\n",
       "        text-align: right;\n",
       "    }\n",
       "</style>\n",
       "<table border=\"1\" class=\"dataframe\">\n",
       "  <thead>\n",
       "    <tr style=\"text-align: right;\">\n",
       "      <th></th>\n",
       "      <th>p-value</th>\n",
       "    </tr>\n",
       "    <tr>\n",
       "      <th>gene</th>\n",
       "      <th></th>\n",
       "    </tr>\n",
       "  </thead>\n",
       "  <tbody>\n",
       "    <tr>\n",
       "      <th>EXOSC8</th>\n",
       "      <td>0.000000e+00</td>\n",
       "    </tr>\n",
       "    <tr>\n",
       "      <th>H2AFY</th>\n",
       "      <td>0.000000e+00</td>\n",
       "    </tr>\n",
       "    <tr>\n",
       "      <th>H2AFZ</th>\n",
       "      <td>0.000000e+00</td>\n",
       "    </tr>\n",
       "    <tr>\n",
       "      <th>H3F3A</th>\n",
       "      <td>0.000000e+00</td>\n",
       "    </tr>\n",
       "    <tr>\n",
       "      <th>FEN1</th>\n",
       "      <td>0.000000e+00</td>\n",
       "    </tr>\n",
       "    <tr>\n",
       "      <th>...</th>\n",
       "      <td>...</td>\n",
       "    </tr>\n",
       "    <tr>\n",
       "      <th>HORMAD2.AS1</th>\n",
       "      <td>2.387311e-08</td>\n",
       "    </tr>\n",
       "    <tr>\n",
       "      <th>LOXHD1</th>\n",
       "      <td>2.402809e-08</td>\n",
       "    </tr>\n",
       "    <tr>\n",
       "      <th>PARD6G.AS1</th>\n",
       "      <td>2.407749e-08</td>\n",
       "    </tr>\n",
       "    <tr>\n",
       "      <th>SGSM3</th>\n",
       "      <td>2.418358e-08</td>\n",
       "    </tr>\n",
       "    <tr>\n",
       "      <th>RP11.408H20.3</th>\n",
       "      <td>2.428902e-08</td>\n",
       "    </tr>\n",
       "  </tbody>\n",
       "</table>\n",
       "<p>11193 rows × 1 columns</p>\n",
       "</div>"
      ],
      "text/plain": [
       "                    p-value\n",
       "gene                       \n",
       "EXOSC8         0.000000e+00\n",
       "H2AFY          0.000000e+00\n",
       "H2AFZ          0.000000e+00\n",
       "H3F3A          0.000000e+00\n",
       "FEN1           0.000000e+00\n",
       "...                     ...\n",
       "HORMAD2.AS1    2.387311e-08\n",
       "LOXHD1         2.402809e-08\n",
       "PARD6G.AS1     2.407749e-08\n",
       "SGSM3          2.418358e-08\n",
       "RP11.408H20.3  2.428902e-08\n",
       "\n",
       "[11193 rows x 1 columns]"
      ]
     },
     "execution_count": 7,
     "metadata": {},
     "output_type": "execute_result"
    }
   ],
   "source": [
    "all_cell_significant.sort_values('p-value')"
   ]
  },
  {
   "cell_type": "markdown",
   "id": "4b549316-bf1c-48e3-aec5-17556e420c2c",
   "metadata": {},
   "source": [
    "task 2 -\n",
    "\n",
    "for each gene:\n",
    "\n",
    "separate HSCs and progenitors.\n",
    "\n",
    "calculate 2 r values (one for HSCs only and other progenitors only) for gene expression (df cols) to predict GEP 15\n",
    "\n",
    "compare abs difference in r"
   ]
  },
  {
   "cell_type": "code",
   "execution_count": 8,
   "id": "0174d3cf-0dd4-4ef5-adcd-7c968ef550e2",
   "metadata": {},
   "outputs": [
    {
     "ename": "NameError",
     "evalue": "name 'metadata' is not defined",
     "output_type": "error",
     "traceback": [
      "\u001b[0;31m---------------------------------------------------------------------------\u001b[0m",
      "\u001b[0;31mNameError\u001b[0m                                 Traceback (most recent call last)",
      "Cell \u001b[0;32mIn[8], line 5\u001b[0m\n\u001b[1;32m      1\u001b[0m target \u001b[38;5;241m=\u001b[39m cell_GEP_mapping[[\u001b[38;5;124m'\u001b[39m\u001b[38;5;124mGEP 15 (DNA Replication)\u001b[39m\u001b[38;5;124m'\u001b[39m]]\n\u001b[1;32m      3\u001b[0m merged \u001b[38;5;241m=\u001b[39m (df\n\u001b[1;32m      4\u001b[0m       \u001b[38;5;241m.\u001b[39mmerge(target, left_index\u001b[38;5;241m=\u001b[39m\u001b[38;5;28;01mTrue\u001b[39;00m, right_index\u001b[38;5;241m=\u001b[39m\u001b[38;5;28;01mTrue\u001b[39;00m)\n\u001b[0;32m----> 5\u001b[0m       \u001b[38;5;241m.\u001b[39mmerge(\u001b[43mmetadata\u001b[49m, left_index\u001b[38;5;241m=\u001b[39m\u001b[38;5;28;01mTrue\u001b[39;00m, right_index\u001b[38;5;241m=\u001b[39m\u001b[38;5;28;01mTrue\u001b[39;00m)\n\u001b[1;32m      6\u001b[0m       )\n\u001b[1;32m      8\u001b[0m hsc \u001b[38;5;241m=\u001b[39m merged[merged[\u001b[38;5;124m'\u001b[39m\u001b[38;5;124msubcluster\u001b[39m\u001b[38;5;124m'\u001b[39m] \u001b[38;5;241m==\u001b[39m \u001b[38;5;124m'\u001b[39m\u001b[38;5;124mHSC\u001b[39m\u001b[38;5;124m'\u001b[39m]\u001b[38;5;241m.\u001b[39miloc[:, :\u001b[38;5;241m-\u001b[39m\u001b[38;5;241m9\u001b[39m]\n\u001b[1;32m      9\u001b[0m hsc_X \u001b[38;5;241m=\u001b[39m hsc\u001b[38;5;241m.\u001b[39miloc[:, :\u001b[38;5;241m-\u001b[39m\u001b[38;5;241m1\u001b[39m]\n",
      "\u001b[0;31mNameError\u001b[0m: name 'metadata' is not defined"
     ]
    }
   ],
   "source": [
    "target = cell_GEP_mapping[[target_GEP]]\n",
    "\n",
    "merged = (df\n",
    "      .merge(target, left_index=True, right_index=True)\n",
    "      .merge(metadata, left_index=True, right_index=True)\n",
    "      )\n",
    "\n",
    "hsc = merged[merged['subcluster'] == 'HSC'].iloc[:, :-9]\n",
    "hsc_X = hsc.iloc[:, :-1]\n",
    "hsc_y = hsc['GEP 15 (DNA Replication)']\n",
    "\n",
    "prog = merged[merged['cluster'] != 'Uncommitted'].iloc[:, :-9]\n",
    "prog_X = prog.iloc[:, :-1]\n",
    "prog_y = prog['GEP 15 (DNA Replication)']"
   ]
  },
  {
   "cell_type": "code",
   "execution_count": null,
   "id": "f35a7e98-3c83-46eb-8cd2-967c69b60953",
   "metadata": {},
   "outputs": [],
   "source": [
    "def calculate_r_hsc(row):\n",
    "    X = row\n",
    "    y = hsc_y\n",
    "    hsc_res[row.name] = np.corrcoef(X, y)[0, 1]\n",
    "    \n",
    "def calculate_r_prog(row):\n",
    "    X = row\n",
    "    y = prog_y\n",
    "    prog_res[row.name] = np.corrcoef(X, y)[0, 1]\n",
    "    \n",
    "def dict_to_df_r_HSC(res):\n",
    "    df = pd.DataFrame.from_dict(res, orient='index', columns=['r hsc'])\n",
    "    df.index.name = 'gene'\n",
    "    return df\n",
    "\n",
    "def dict_to_df_r_prog(res):\n",
    "    df = pd.DataFrame.from_dict(res, orient='index', columns=['r prog'])\n",
    "    df.index.name = 'gene'\n",
    "    return df"
   ]
  },
  {
   "cell_type": "code",
   "execution_count": null,
   "id": "c18dd011-df10-4607-85fb-adbf9f180f1b",
   "metadata": {},
   "outputs": [],
   "source": [
    "hsc_res = {}\n",
    "hsc_X.apply(calculate_r_hsc)\n",
    "hsc_r = dict_to_df_r_HSC(hsc_res)\n",
    "\n",
    "prog_res = {}\n",
    "prog_X.apply(calculate_r_prog)\n",
    "prog_r = dict_to_df_r_prog(prog_res)"
   ]
  },
  {
   "cell_type": "code",
   "execution_count": 9,
   "id": "db12f230-6b53-45e2-9cd5-0b804d090ba0",
   "metadata": {},
   "outputs": [
    {
     "ename": "NameError",
     "evalue": "name 'hsc_r' is not defined",
     "output_type": "error",
     "traceback": [
      "\u001b[0;31m---------------------------------------------------------------------------\u001b[0m",
      "\u001b[0;31mNameError\u001b[0m                                 Traceback (most recent call last)",
      "Cell \u001b[0;32mIn[9], line 1\u001b[0m\n\u001b[0;32m----> 1\u001b[0m all_r \u001b[38;5;241m=\u001b[39m \u001b[43mhsc_r\u001b[49m\u001b[38;5;241m.\u001b[39mmerge(prog_r, left_index\u001b[38;5;241m=\u001b[39m\u001b[38;5;28;01mTrue\u001b[39;00m, right_index\u001b[38;5;241m=\u001b[39m\u001b[38;5;28;01mTrue\u001b[39;00m)\n\u001b[1;32m      2\u001b[0m all_r[\u001b[38;5;124m'\u001b[39m\u001b[38;5;124mabs diff\u001b[39m\u001b[38;5;124m'\u001b[39m] \u001b[38;5;241m=\u001b[39m (all_r[\u001b[38;5;124m'\u001b[39m\u001b[38;5;124mr hsc\u001b[39m\u001b[38;5;124m'\u001b[39m] \u001b[38;5;241m-\u001b[39m all_r[\u001b[38;5;124m'\u001b[39m\u001b[38;5;124mr prog\u001b[39m\u001b[38;5;124m'\u001b[39m])\u001b[38;5;241m.\u001b[39mabs()\n",
      "\u001b[0;31mNameError\u001b[0m: name 'hsc_r' is not defined"
     ]
    }
   ],
   "source": [
    "all_r = hsc_r.merge(prog_r, left_index=True, right_index=True)\n",
    "all_r['abs diff'] = (all_r['r hsc'] - all_r['r prog']).abs()"
   ]
  },
  {
   "cell_type": "code",
   "execution_count": null,
   "id": "6cda78e1-e8c4-4c8a-8032-0b2c20545c41",
   "metadata": {},
   "outputs": [],
   "source": [
    "# all_r.to_csv('GEP15_correlation.csv', index=True)"
   ]
  },
  {
   "cell_type": "code",
   "execution_count": null,
   "id": "321f19eb-e5c9-4a81-9587-3070334ccf24",
   "metadata": {},
   "outputs": [],
   "source": [
    "(all_r\n",
    " .sort_values('abs diff', ascending=False)\n",
    " .head(20)\n",
    ")"
   ]
  },
  {
   "cell_type": "code",
   "execution_count": null,
   "id": "7bdc3a3d-ac19-42e2-8a6a-99f909056b96",
   "metadata": {},
   "outputs": [],
   "source": [
    "plt.hist(all_r['r prog'], alpha=0.5, label='r prog')\n",
    "plt.hist(all_r['r hsc'], alpha=0.5, label='r hsc')\n",
    "plt.legend()\n",
    "plt.show()"
   ]
  },
  {
   "cell_type": "code",
   "execution_count": null,
   "id": "cc3e458e-d6e5-4691-81c9-86f99474effc",
   "metadata": {},
   "outputs": [],
   "source": [
    "all_r['r prog'].describe()"
   ]
  },
  {
   "cell_type": "code",
   "execution_count": null,
   "id": "4b862361-7a09-428a-81f2-4fcda5186473",
   "metadata": {},
   "outputs": [],
   "source": [
    "all_r['r hsc'].describe()"
   ]
  },
  {
   "cell_type": "code",
   "execution_count": null,
   "id": "1a335806-15e4-4367-b883-69eebe884a3a",
   "metadata": {},
   "outputs": [],
   "source": [
    "plt.scatter(hsc_X['EIF4B'], hsc_X['MT.ND2'])"
   ]
  },
  {
   "cell_type": "code",
   "execution_count": null,
   "id": "b5dc7636-6768-47d0-9953-a2877c3a4db0",
   "metadata": {},
   "outputs": [],
   "source": [
    "x = hsc_X['EIF4B']\n",
    "y = hsc_y\n",
    "\n",
    "# plt.xlim(0, 80)\n",
    "# plt.ylim(0, 10)\n",
    "plt.scatter(np.log(x), y)"
   ]
  },
  {
   "cell_type": "code",
   "execution_count": null,
   "id": "db8cd810-c44c-4efd-9575-2152e3ae6be3",
   "metadata": {},
   "outputs": [],
   "source": [
    "x = prog_X['EIF4B']\n",
    "y = prog_y\n",
    "\n",
    "plt.scatter(np.log(x), y)\n",
    "# plt.xlim(0, 80)\n",
    "# plt.ylim(0, 10)\n",
    "plt.show()"
   ]
  },
  {
   "cell_type": "markdown",
   "id": "3e211ec3-9edd-428f-aa5d-ba80c0a9e162",
   "metadata": {},
   "source": [
    "https://genomebiology.biomedcentral.com/articles/10.1186/s13059-022-02601-5 - zero inflation\n",
    "\n",
    "https://pmc.ncbi.nlm.nih.gov/articles/PMC7412673/ - hippo"
   ]
  },
  {
   "cell_type": "code",
   "execution_count": null,
   "id": "c31392c8-191e-4c02-ad2a-6d9c120ecc10",
   "metadata": {},
   "outputs": [],
   "source": []
  }
 ],
 "metadata": {
  "kernelspec": {
   "display_name": "HSC",
   "language": "python",
   "name": "hsc"
  },
  "language_info": {
   "codemirror_mode": {
    "name": "ipython",
    "version": 3
   },
   "file_extension": ".py",
   "mimetype": "text/x-python",
   "name": "python",
   "nbconvert_exporter": "python",
   "pygments_lexer": "ipython3",
   "version": "3.9.21"
  }
 },
 "nbformat": 4,
 "nbformat_minor": 5
}
