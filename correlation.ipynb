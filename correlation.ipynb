{
 "cells": [
  {
   "cell_type": "markdown",
   "id": "0049e863-da18-4205-a7d3-8342a1c8713e",
   "metadata": {},
   "source": [
    "# TODO: \n",
    "\n",
    "- look to see if anyone has perfected method for correlating gene expression against a phenotype/trait at single cell scale.\n",
    "- REPEAT PROCESS FOR GEP 22, SEND CSVS TO HOJUN. make pandas code cleaner/reusable. incorporate correction for zero inflation?\n",
    "- calculate p values for each correlation (HSC, gene, GEP vs progenitor, gene, GEP). basically same thing as task 1, but separate HSCs and progenitor.\n",
    "- make CDFs color coded. add to dataframe boolean columns whether the correlations are significant or not. use the scipy correlation correction thing above"
   ]
  },
  {
   "cell_type": "code",
   "execution_count": 1,
   "id": "4410ef5d-e8b1-45e0-80ce-d5713c780f29",
   "metadata": {},
   "outputs": [],
   "source": [
    "import scanpy as sc\n",
    "import anndata as ad\n",
    "import pandas as pd\n",
    "import numpy as np\n",
    "\n",
    "from scipy.stats import pearsonr, false_discovery_control\n",
    "\n",
    "import matplotlib.pyplot as plt\n",
    "import seaborn as sns\n",
    "\n",
    "# from sklearn.linear_model import ElasticNetCV, LinearRegression\n",
    "# from sklearn.model_selection import train_test_split\n",
    "# from sklearn.metrics import mean_squared_error\n",
    "# from sklearn.pipeline import make_pipeline\n",
    "# from sklearn.compose import make_column_transformer\n",
    "# from sklearn.preprocessing import FunctionTransformer"
   ]
  },
  {
   "cell_type": "code",
   "execution_count": 2,
   "id": "f4bf39c7-d33b-4957-af6c-44090d527ae6",
   "metadata": {},
   "outputs": [],
   "source": [
    "target_GEP = 'GEP 15 (DNA Replication)'\n",
    "# target_GEP = 'GEP 22 (Cell cycle)'"
   ]
  },
  {
   "cell_type": "code",
   "execution_count": 3,
   "id": "37ca16a8-aee4-4c93-a913-4d0b7812f16c",
   "metadata": {},
   "outputs": [],
   "source": [
    "def read_metadata():\n",
    "    return pd.read_csv('./data/metadata.csv').rename(columns={'Unnamed: 0': 'cell'}).set_index('cell')\n",
    "\n",
    "def read_full_counts():\n",
    "    adata = sc.read_h5ad(\"./data/hultcd34_full.h5ad\")\n",
    "    adata.obs = metadata\n",
    "    df = adata.to_df()\n",
    "    return df.merge(metadata, left_index=True, right_index=True)\n",
    "\n",
    "# account for cells thrown out in cell-GEP dataframe, also keep only HSCs and progenitors\n",
    "def filter_full_counts(df):\n",
    "    cell_GEP_mapping = read_cell_GEP()\n",
    "    gep_set = set(cell_GEP_mapping.index)\n",
    "    raw_counts_set = set(df.index)\n",
    "    difference = raw_counts_set.difference(gep_set)\n",
    "    \n",
    "    df = df[~df.index.isin(difference)]\n",
    "    df = (df\n",
    "          [(df['cluster'] != 'Uncommitted') | (df['subcluster'] == 'HSC')]\n",
    "          .iloc[:, :-9]\n",
    "         )\n",
    "    \n",
    "    return df\n",
    "\n",
    "def read_cell_GEP():\n",
    "    cell_GEP_mapping = pd.read_csv(r'./data/Factorized matrices from human lifetime scRNA(GEP usage per cell).csv').set_index('Cell')\n",
    "    return cell_GEP_mapping.merge(metadata, left_index=True, right_index=True)\n",
    "    \n",
    "# keep only HSCs and progenitors\n",
    "def filter_cell_GEP(cell_GEP_mapping):\n",
    "    cell_GEP_mapping = (cell_GEP_mapping\n",
    "                    [(cell_GEP_mapping['cluster'] != 'Uncommitted') | (cell_GEP_mapping['subcluster'] == 'HSC')]\n",
    "                    .iloc[:, :35]\n",
    "                   )\n",
    "    return cell_GEP_mapping"
   ]
  },
  {
   "cell_type": "code",
   "execution_count": 4,
   "id": "0174d3cf-0dd4-4ef5-adcd-7c968ef550e2",
   "metadata": {},
   "outputs": [],
   "source": [
    "def get_merged(df, cell_GEP_mapping):\n",
    "    target = cell_GEP_mapping[[target_GEP]]\n",
    "    df = (df\n",
    "          .merge(target, left_index=True, right_index=True)\n",
    "          .merge(metadata, left_index=True, right_index=True)\n",
    "          )\n",
    "    return df\n",
    "\n",
    "def get_HSC(merged):\n",
    "    hsc = merged[merged['subcluster'] == 'HSC'].iloc[:, :-9]\n",
    "    hsc_X = hsc.iloc[:, :-1]\n",
    "    hsc_y = hsc[target_GEP]\n",
    "    return hsc_X, hsc_y\n",
    "\n",
    "def get_prog(merged):\n",
    "    prog = merged[merged['cluster'] != 'Uncommitted'].iloc[:, :-9]\n",
    "    prog_X = prog.iloc[:, :-1]\n",
    "    prog_y = prog[target_GEP]\n",
    "    return prog_X, prog_y"
   ]
  },
  {
   "cell_type": "code",
   "execution_count": 5,
   "id": "4129b4f5-1830-47e6-b5bf-758f77665b3f",
   "metadata": {},
   "outputs": [],
   "source": [
    "def get_stats_hsc(col):\n",
    "    X = col\n",
    "    y = hsc_y\n",
    "    r, p_val = pearsonr(X, y)\n",
    "    hsc_res.append({'gene': col.name, 'r hsc': r, 'p hsc': p_val})\n",
    "\n",
    "def get_stats_prog(col):\n",
    "    X = col\n",
    "    y = prog_y\n",
    "    r, p_val = pearsonr(X, y)\n",
    "    prog_res.append({'gene': col.name, 'r prog': r, 'p prog': p_val})"
   ]
  },
  {
   "cell_type": "code",
   "execution_count": 6,
   "id": "66b9d1d1-ce29-4a9c-a060-9ea29c3fb13b",
   "metadata": {},
   "outputs": [],
   "source": [
    "# metadata = read_metadata()\n",
    "# df = (read_full_counts()\n",
    "#       .pipe(filter_full_counts)\n",
    "#      )\n",
    "# cell_GEP_mapping = (read_cell_GEP()\n",
    "#                     .pipe(filter_cell_GEP)\n",
    "#                    )"
   ]
  },
  {
   "cell_type": "code",
   "execution_count": 7,
   "id": "99414114-71ab-4ec7-85a9-b1125257e5e0",
   "metadata": {},
   "outputs": [],
   "source": [
    "# merged = get_merged(df, cell_GEP_mapping)\n",
    "# hsc_X, hsc_y = get_HSC(merged)\n",
    "# prog_X, prog_y = get_prog(merged)"
   ]
  },
  {
   "cell_type": "code",
   "execution_count": 8,
   "id": "18c06c16-7dc7-4dde-974e-3e6b9bfc5b19",
   "metadata": {},
   "outputs": [],
   "source": [
    "# hsc_res = []\n",
    "# hsc_X.apply(get_stats_hsc)\n",
    "# hsc_df = pd.DataFrame(hsc_res).set_index('gene')\n",
    "\n",
    "# prog_res = []\n",
    "# prog_X.apply(get_stats_prog)\n",
    "# prog_df = pd.DataFrame(prog_res).set_index('gene')\n",
    "\n",
    "# res = hsc_df.merge(prog_df, left_index=True, right_index=True)"
   ]
  },
  {
   "cell_type": "code",
   "execution_count": 9,
   "id": "582bdb46-2ea4-48f4-a47f-3e3243022a19",
   "metadata": {},
   "outputs": [],
   "source": [
    "# res.to_csv(f'correlations/GEP_{target_GEP[4:6]}_results.csv', index=True)\n",
    "res = pd.read_csv(f'correlations/GEP_{target_GEP[4:6]}_results.csv').set_index('gene')"
   ]
  },
  {
   "cell_type": "code",
   "execution_count": 10,
   "id": "ca4fac97-225e-4bf6-9979-56be6ce18474",
   "metadata": {},
   "outputs": [
    {
     "name": "stderr",
     "output_type": "stream",
     "text": [
      "/scratch/sbhayani/job_38547160/ipykernel_1714947/2224245022.py:5: SettingWithCopyWarning: \n",
      "A value is trying to be set on a copy of a slice from a DataFrame.\n",
      "Try using .loc[row_indexer,col_indexer] = value instead\n",
      "\n",
      "See the caveats in the documentation: https://pandas.pydata.org/pandas-docs/stable/user_guide/indexing.html#returning-a-view-versus-a-copy\n",
      "  filtered['p adjusted hsc'] = false_discovery_control(filtered['p hsc'])\n",
      "/scratch/sbhayani/job_38547160/ipykernel_1714947/2224245022.py:6: SettingWithCopyWarning: \n",
      "A value is trying to be set on a copy of a slice from a DataFrame.\n",
      "Try using .loc[row_indexer,col_indexer] = value instead\n",
      "\n",
      "See the caveats in the documentation: https://pandas.pydata.org/pandas-docs/stable/user_guide/indexing.html#returning-a-view-versus-a-copy\n",
      "  filtered['p adjusted prog'] = false_discovery_control(filtered['p prog'])\n",
      "/scratch/sbhayani/job_38547160/ipykernel_1714947/2224245022.py:7: SettingWithCopyWarning: \n",
      "A value is trying to be set on a copy of a slice from a DataFrame.\n",
      "Try using .loc[row_indexer,col_indexer] = value instead\n",
      "\n",
      "See the caveats in the documentation: https://pandas.pydata.org/pandas-docs/stable/user_guide/indexing.html#returning-a-view-versus-a-copy\n",
      "  filtered['hsc significant'] = filtered['p adjusted hsc'] < alpha\n",
      "/scratch/sbhayani/job_38547160/ipykernel_1714947/2224245022.py:8: SettingWithCopyWarning: \n",
      "A value is trying to be set on a copy of a slice from a DataFrame.\n",
      "Try using .loc[row_indexer,col_indexer] = value instead\n",
      "\n",
      "See the caveats in the documentation: https://pandas.pydata.org/pandas-docs/stable/user_guide/indexing.html#returning-a-view-versus-a-copy\n",
      "  filtered['prog significant'] = filtered['p adjusted prog'] < alpha\n"
     ]
    }
   ],
   "source": [
    "# some nans exist in correlations, how to deal?\n",
    "alpha = 0.05\n",
    "\n",
    "filtered = res.dropna()\n",
    "filtered['p adjusted hsc'] = false_discovery_control(filtered['p hsc'])\n",
    "filtered['p adjusted prog'] = false_discovery_control(filtered['p prog'])\n",
    "filtered['hsc significant'] = filtered['p adjusted hsc'] < alpha\n",
    "filtered['prog significant'] = filtered['p adjusted prog'] < alpha\n",
    "filtered = filtered[['r hsc', 'p hsc', 'p adjusted hsc', 'hsc significant', 'r prog', 'p prog', 'p adjusted prog', 'prog significant']]"
   ]
  },
  {
   "cell_type": "code",
   "execution_count": 11,
   "id": "7e47fb4e-b571-4b00-822b-c0ca77292be4",
   "metadata": {},
   "outputs": [
    {
     "data": {
      "text/html": [
       "<div>\n",
       "<style scoped>\n",
       "    .dataframe tbody tr th:only-of-type {\n",
       "        vertical-align: middle;\n",
       "    }\n",
       "\n",
       "    .dataframe tbody tr th {\n",
       "        vertical-align: top;\n",
       "    }\n",
       "\n",
       "    .dataframe thead th {\n",
       "        text-align: right;\n",
       "    }\n",
       "</style>\n",
       "<table border=\"1\" class=\"dataframe\">\n",
       "  <thead>\n",
       "    <tr style=\"text-align: right;\">\n",
       "      <th></th>\n",
       "      <th>r hsc</th>\n",
       "      <th>p hsc</th>\n",
       "      <th>p adjusted hsc</th>\n",
       "      <th>hsc significant</th>\n",
       "      <th>r prog</th>\n",
       "      <th>p prog</th>\n",
       "      <th>p adjusted prog</th>\n",
       "      <th>prog significant</th>\n",
       "    </tr>\n",
       "    <tr>\n",
       "      <th>gene</th>\n",
       "      <th></th>\n",
       "      <th></th>\n",
       "      <th></th>\n",
       "      <th></th>\n",
       "      <th></th>\n",
       "      <th></th>\n",
       "      <th></th>\n",
       "      <th></th>\n",
       "    </tr>\n",
       "  </thead>\n",
       "  <tbody>\n",
       "    <tr>\n",
       "      <th>X5S-rRNA</th>\n",
       "      <td>-0.015419</td>\n",
       "      <td>0.142728</td>\n",
       "      <td>0.229862</td>\n",
       "      <td>False</td>\n",
       "      <td>-0.010093</td>\n",
       "      <td>0.070457</td>\n",
       "      <td>0.098964</td>\n",
       "      <td>False</td>\n",
       "    </tr>\n",
       "    <tr>\n",
       "      <th>X5-8S-rRNA</th>\n",
       "      <td>-0.015324</td>\n",
       "      <td>0.145208</td>\n",
       "      <td>0.233122</td>\n",
       "      <td>False</td>\n",
       "      <td>-0.005839</td>\n",
       "      <td>0.295298</td>\n",
       "      <td>0.350010</td>\n",
       "      <td>False</td>\n",
       "    </tr>\n",
       "    <tr>\n",
       "      <th>X7SK</th>\n",
       "      <td>-0.019402</td>\n",
       "      <td>0.065115</td>\n",
       "      <td>0.124226</td>\n",
       "      <td>False</td>\n",
       "      <td>-0.009996</td>\n",
       "      <td>0.073206</td>\n",
       "      <td>0.102357</td>\n",
       "      <td>False</td>\n",
       "    </tr>\n",
       "    <tr>\n",
       "      <th>A1BG</th>\n",
       "      <td>-0.021253</td>\n",
       "      <td>0.043339</td>\n",
       "      <td>0.090221</td>\n",
       "      <td>False</td>\n",
       "      <td>-0.017721</td>\n",
       "      <td>0.001492</td>\n",
       "      <td>0.003085</td>\n",
       "      <td>True</td>\n",
       "    </tr>\n",
       "    <tr>\n",
       "      <th>A1BG.AS1</th>\n",
       "      <td>-0.010456</td>\n",
       "      <td>0.320251</td>\n",
       "      <td>0.425414</td>\n",
       "      <td>False</td>\n",
       "      <td>-0.015464</td>\n",
       "      <td>0.005578</td>\n",
       "      <td>0.010223</td>\n",
       "      <td>True</td>\n",
       "    </tr>\n",
       "  </tbody>\n",
       "</table>\n",
       "</div>"
      ],
      "text/plain": [
       "               r hsc     p hsc  p adjusted hsc  hsc significant    r prog  \\\n",
       "gene                                                                        \n",
       "X5S-rRNA   -0.015419  0.142728        0.229862            False -0.010093   \n",
       "X5-8S-rRNA -0.015324  0.145208        0.233122            False -0.005839   \n",
       "X7SK       -0.019402  0.065115        0.124226            False -0.009996   \n",
       "A1BG       -0.021253  0.043339        0.090221            False -0.017721   \n",
       "A1BG.AS1   -0.010456  0.320251        0.425414            False -0.015464   \n",
       "\n",
       "              p prog  p adjusted prog  prog significant  \n",
       "gene                                                     \n",
       "X5S-rRNA    0.070457         0.098964             False  \n",
       "X5-8S-rRNA  0.295298         0.350010             False  \n",
       "X7SK        0.073206         0.102357             False  \n",
       "A1BG        0.001492         0.003085              True  \n",
       "A1BG.AS1    0.005578         0.010223              True  "
      ]
     },
     "execution_count": 11,
     "metadata": {},
     "output_type": "execute_result"
    }
   ],
   "source": [
    "filtered.head()"
   ]
  },
  {
   "cell_type": "code",
   "execution_count": 12,
   "id": "3453cd1b-618d-4476-830b-ca1a574851ff",
   "metadata": {},
   "outputs": [],
   "source": [
    "def plot_cdf(df, col_name):\n",
    "    s = df[col_name]\n",
    "    cdf = s.rank(method='average', pct=True)\n",
    "    sorted_s = s.sort_values()\n",
    "    sorted_cdf = cdf[sorted_s.index]\n",
    "    \n",
    "    # Get corresponding significance values\n",
    "    sig = 'hsc significant' if 'hsc' in col_name else 'prog significant'\n",
    "    significance = df.loc[sorted_s.index, sig]\n",
    "    \n",
    "    # Create the scatter plot with two colors\n",
    "    plt.figure(figsize=(8, 6))\n",
    "    for label, color in zip([True, False], ['blue', 'gray']):\n",
    "        mask = significance == label\n",
    "        plt.scatter(\n",
    "            sorted_s[mask].values,\n",
    "            sorted_cdf[mask].values,\n",
    "            c=color,\n",
    "            label='Significant' if label else 'Not Significant',\n",
    "            alpha=0.4,\n",
    "        )\n",
    "\n",
    "    plt.xlabel(col_name)\n",
    "    plt.ylabel('Cumulative Probability')\n",
    "    plt.grid(True)\n",
    "    plt.legend()\n",
    "    plt.tight_layout()\n",
    "    plt.show()"
   ]
  },
  {
   "cell_type": "code",
   "execution_count": 13,
   "id": "40aaf848-befa-4b08-8af5-ccf53f669f1e",
   "metadata": {},
   "outputs": [
    {
     "data": {
      "image/png": "[encoded data removed]",
      "text/plain": [
       "<Figure size 800x600 with 1 Axes>"
      ]
     },
     "metadata": {},
     "output_type": "display_data"
    }
   ],
   "source": [
    "plot_cdf(filtered, 'r hsc')"
   ]
  },
  {
   "cell_type": "code",
   "execution_count": null,
   "id": "e822c7ff-ba9e-4001-a4f8-a282be563568",
   "metadata": {},
   "outputs": [],
   "source": []
  }
 ],
 "metadata": {
  "kernelspec": {
   "display_name": "HSC",
   "language": "python",
   "name": "hsc"
  },
  "language_info": {
   "codemirror_mode": {
    "name": "ipython",
    "version": 3
   },
   "file_extension": ".py",
   "mimetype": "text/x-python",
   "name": "python",
   "nbconvert_exporter": "python",
   "pygments_lexer": "ipython3",
   "version": "3.9.21"
  }
 },
 "nbformat": 4,
 "nbformat_minor": 5
}
